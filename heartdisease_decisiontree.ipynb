{
 "cells": [
  {
   "cell_type": "code",
   "execution_count": 1,
   "id": "be3b5f7a-2d66-4fa0-938a-d1d9f0d436bc",
   "metadata": {},
   "outputs": [],
   "source": [
    "import numpy as np\n",
    "import pandas as pd\n",
    "from sklearn.model_selection import train_test_split\n",
    "from sklearn.tree import DecisionTreeClassifier\n",
    "from sklearn.metrics import accuracy_score\n",
    "from sklearn import tree\n",
    "from sklearn import preprocessing\n",
    "from sklearn.preprocessing import StandardScaler"
   ]
  },
  {
   "cell_type": "code",
   "execution_count": 2,
   "id": "8e1ba017-3751-4a16-8d40-9da253e541f4",
   "metadata": {},
   "outputs": [],
   "source": [
    "filepath=\"/Users/krithika/Desktop/framingham_edit.csv\"\n",
    "df = pd.read_csv(filepath,sep=',',header=0)"
   ]
  },
  {
   "cell_type": "code",
   "execution_count": 3,
   "id": "ef80480e-102b-4c56-a402-3a5100e7af64",
   "metadata": {},
   "outputs": [
    {
     "name": "stdout",
     "output_type": "stream",
     "text": [
      "(3659, 16)\n"
     ]
    }
   ],
   "source": [
    "print(df.shape)\n"
   ]
  },
  {
   "cell_type": "code",
   "execution_count": 4,
   "id": "f2628b9a-13e9-41c7-a9b7-bee0cb6f2aab",
   "metadata": {},
   "outputs": [],
   "source": [
    "X = df.values[:, :15]\n",
    "Y = df.values[:,15]\n",
    "\n",
    "X_train, X_test, y_train, y_test = train_test_split( X, Y, test_size = 0.3, random_state = 100)"
   ]
  },
  {
   "cell_type": "code",
   "execution_count": 6,
   "id": "c5f17840-a8b0-4346-9eff-75f735c4c8c6",
   "metadata": {},
   "outputs": [
    {
     "data": {
      "text/plain": [
       "DecisionTreeClassifier(criterion='entropy', max_depth=3, min_samples_leaf=5,\n",
       "                       random_state=100)"
      ]
     },
     "execution_count": 6,
     "metadata": {},
     "output_type": "execute_result"
    }
   ],
   "source": [
    "clf_gini = DecisionTreeClassifier(criterion = \"entropy\", random_state = 100,max_depth=3, min_samples_leaf=5)\n",
    "clf_gini.fit(X_train, y_train)"
   ]
  },
  {
   "cell_type": "code",
   "execution_count": 8,
   "id": "c7438834-2de4-4885-a82a-cd433f8f5379",
   "metadata": {},
   "outputs": [],
   "source": [
    "a=[[1,39,4,0,0,0,0,0,0,195,106.0,70.0,26.97,80.0,77]]\n",
    "y_pred = clf_gini.predict(a)\n"
   ]
  },
  {
   "cell_type": "code",
   "execution_count": 9,
   "id": "7fdedb65-ad67-40b6-9d09-40b53db5afe7",
   "metadata": {},
   "outputs": [
    {
     "name": "stdout",
     "output_type": "stream",
     "text": [
      "[0.]\n"
     ]
    }
   ],
   "source": [
    "print(y_pred)"
   ]
  },
  {
   "cell_type": "code",
   "execution_count": 11,
   "id": "ba4db998-32cc-42f7-8bb9-97d4c98702b8",
   "metadata": {},
   "outputs": [
    {
     "name": "stdout",
     "output_type": "stream",
     "text": [
      "No possibility of heart disease in the next 10 years\n"
     ]
    }
   ],
   "source": [
    "if y_pred==0:\n",
    "    print(\"No possibility of heart disease in the next 10 years\")\n",
    "else:\n",
    "    print(\"High possibility of heart disease in the next 10 years\")"
   ]
  },
  {
   "cell_type": "code",
   "execution_count": 12,
   "id": "b348dc00-77f4-41cd-a764-fe64f8a4f1d2",
   "metadata": {},
   "outputs": [],
   "source": [
    "b=[[0,54,2,0,0,1,0,1,1,145,160,90,28.6,65,78]]\n",
    "y_pred = clf_gini.predict(b)"
   ]
  },
  {
   "cell_type": "code",
   "execution_count": 13,
   "id": "802c3352-c5af-466e-bb3d-516289d2a210",
   "metadata": {},
   "outputs": [
    {
     "name": "stdout",
     "output_type": "stream",
     "text": [
      "No possibility of heart disease in the next 10 years\n"
     ]
    }
   ],
   "source": [
    "if y_pred==0:\n",
    "    print(\"No possibility of heart disease in the next 10 years\")\n",
    "else:\n",
    "    print(\"High possibility of heart disease in the next 10 years\")"
   ]
  },
  {
   "cell_type": "code",
   "execution_count": null,
   "id": "70c9f45d-7b23-43e5-b7ea-ca0bd3e565aa",
   "metadata": {},
   "outputs": [],
   "source": []
  }
 ],
 "metadata": {
  "kernelspec": {
   "display_name": "Python 3",
   "language": "python",
   "name": "python3"
  },
  "language_info": {
   "codemirror_mode": {
    "name": "ipython",
    "version": 3
   },
   "file_extension": ".py",
   "mimetype": "text/x-python",
   "name": "python",
   "nbconvert_exporter": "python",
   "pygments_lexer": "ipython3",
   "version": "3.9.4"
  }
 },
 "nbformat": 4,
 "nbformat_minor": 5
}
